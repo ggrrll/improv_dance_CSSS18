{
 "cells": [
  {
   "cell_type": "code",
   "execution_count": 3,
   "metadata": {},
   "outputs": [],
   "source": [
    "from __future__ import division\n",
    "import numpy as np\n",
    "import dit\n",
    "import matplotlib.pyplot as plt\n",
    "import itertools"
   ]
  },
  {
   "cell_type": "markdown",
   "metadata": {},
   "source": [
    "### Information Analysis of Improvisation Routines\n",
    "\n",
    "THIS IS BARELY DOCUMENTED AND NOT VERY CLEAN, FEEL FREE TO DO THAT OR I CAN JUST PUSH AN UPDATED VERSION LATER ON (ARIADNA)"
   ]
  },
  {
   "cell_type": "code",
   "execution_count": 4,
   "metadata": {},
   "outputs": [],
   "source": [
    "#Take video encoding and label each possible encoding from 0 to 7\n",
    "one_dancer_alph = {'000': 0, '001':1, '010':2, '011' : 3, '100':4, '101' : 5, '110' : 6, '111' : 7}\n",
    "\n",
    "##Consider the time series of both dancers jointly, take the joint encodings and label them from 0 to 63\n",
    "two_dancer_alph = list(itertools.product(range(8),range(8)))\n",
    "big_alph = {}\n",
    "for i in range(len(two_dancer_alph)): \n",
    "    big_alph[two_dancer_alph[i]] = i"
   ]
  },
  {
   "cell_type": "code",
   "execution_count": 5,
   "metadata": {},
   "outputs": [],
   "source": [
    "def mutual_info(dancerA, dancerB): \n",
    "    '''\n",
    "    Compute the mutual information between the series of dancerA and dancerB.\n",
    "    Inputs must be pre-processed with one_dancer_alph\n",
    "    \n",
    "    Parameters:\n",
    "    ----------\n",
    "    \n",
    "    dancerA: list or 1D array\n",
    "        contains the time series of dancer A\n",
    "    dancerB: list or 1D array \n",
    "        contains the time series of dancer B\n",
    "    \n",
    "    Returns:\n",
    "    --------\n",
    "    \n",
    "    mutual_info: float\n",
    "        the mutual information between the time series of dancers A and B\n",
    "    \n",
    "    '''\n",
    "    #\n",
    "    joint_moves = list(zip(dancerA, dancerB))\n",
    "    recoded_joint_moves = [big_alph[move] for move in joint_moves]\n",
    "    #for move in joint_moves:\n",
    "    #    recoded_joint_moves.append(big_alph[move])\n",
    "    \n",
    "    ha = dit.inference.entropy_2(dancerA)\n",
    "    hb = dit.inference.entropy_2(dancerB)\n",
    "    hab = dit.inference.entropy_2(recoded_joint_moves)\n",
    "    return ha+hb-hab\n",
    "\n",
    "\n",
    "def entropy_rate(moves, lmax):\n",
    "    '''\n",
    "    Entropy rate estimates of lengths 1 to 'lmax' of the time series 'moves'\n",
    "    '''\n",
    "    \n",
    "    #Entropy estimates at length i\n",
    "    hL = [dit.inference.entropy_2(moves, i) for i in range(lmax)]\n",
    "    \n",
    "    #for i in range(lmax):\n",
    "    #    hL.append(dit.inference.entropy_2(moves, i))\n",
    "    \n",
    "    #entropy rate estimates \n",
    "    hL_diffs = []\n",
    "    for i in range(lmax-1):\n",
    "        hL_diffs.append(hL[i+1] -hL[i])\n",
    "        \n",
    "    return hL_diffs\n",
    "\n",
    "\n",
    "def joint_moves(dancerA, dancerB):\n",
    "    '''\n",
    "    Process list of two dancers and turns into a single alphabet of 64 characters.\n",
    "    '''\n",
    "    \n",
    "    joint_moves = list(zip(dancerA, dancerB))\n",
    "    recoded_joint_moves = []\n",
    "    for move in joint_moves:\n",
    "        recoded_joint_moves.append(big_alph[move])\n",
    "    return recoded_joint_moves"
   ]
  },
  {
   "cell_type": "markdown",
   "metadata": {},
   "source": [
    "## Load videos"
   ]
  },
  {
   "cell_type": "code",
   "execution_count": 6,
   "metadata": {},
   "outputs": [],
   "source": [
    "#Video 1\n",
    "\n",
    "with open('vid1_0.5_SM.txt') as f:\n",
    "    v1_SM = f.read().splitlines()\n",
    "    \n",
    "with open('vid1_0.5_VRV.txt') as f1:\n",
    "    v1_VV = f1.read().splitlines()\n",
    "    \n",
    "#Video 2\n",
    "\n",
    "with open('vid2_0.5_SH.txt') as f:\n",
    "    v2_SH = f.read().splitlines()\n",
    "    \n",
    "with open('vid2_0.5_AV.txt') as f1:\n",
    "    v2_AV = f1.read().splitlines()\n",
    "\n",
    "#Video 4\n",
    "\n",
    "with open('vid4_0.5_PM.txt') as f:\n",
    "    v4_PM = f.read().splitlines()\n",
    "    \n",
    "with open('vid4_0.5_SWH.txt') as f1:\n",
    "    v4_SH = f1.read().splitlines()\n"
   ]
  },
  {
   "cell_type": "markdown",
   "metadata": {},
   "source": [
    "# Vid 1"
   ]
  },
  {
   "cell_type": "code",
   "execution_count": 7,
   "metadata": {},
   "outputs": [],
   "source": [
    "dA1_SM = []\n",
    "dB1_SM = []\n",
    "dA1_VV = []\n",
    "dB1_VV = []\n",
    "for line in v1_SM[:256]:\n",
    "    dat1 = line.split(',')\n",
    "    dA1_SM.append(one_dancer_alph[dat1[1]])\n",
    "    dB1_SM.append(one_dancer_alph[dat1[2]])\n",
    "    \n",
    "for line in v1_VV:\n",
    "    dat = line.split(',')\n",
    "    dA1_VV.append(one_dancer_alph[dat[1]])\n",
    "    dB1_VV.append(one_dancer_alph[dat[2]])\n",
    "    \n",
    "da1sm = np.array(dA1_SM) \n",
    "db1sm = np.array(dB1_SM)\n",
    "da1vv = np.array(dA1_VV)\n",
    "db1vv = np.array(dB1_VV)"
   ]
  },
  {
   "cell_type": "markdown",
   "metadata": {},
   "source": [
    "### SM"
   ]
  },
  {
   "cell_type": "code",
   "execution_count": 8,
   "metadata": {},
   "outputs": [],
   "source": [
    "dab1_sm = joint_moves(da1sm, db1sm)\n",
    "da_hmu1_sm = entropy_rate(da1sm, 10)\n",
    "db_hmu1_sm = entropy_rate(db1sm, 10)\n",
    "dab_hmu1_sm = entropy_rate(dab1_sm,6)\n",
    "minfo1_sm = mutual_info(da1sm, db1sm)"
   ]
  },
  {
   "cell_type": "code",
   "execution_count": 9,
   "metadata": {},
   "outputs": [
    {
     "name": "stdout",
     "output_type": "stream",
     "text": [
      "1.3262272366422678\n"
     ]
    }
   ],
   "source": [
    "print(minfo1_sm)"
   ]
  },
  {
   "cell_type": "code",
   "execution_count": 10,
   "metadata": {},
   "outputs": [
    {
     "name": "stdout",
     "output_type": "stream",
     "text": [
      "[2.612244153199543, 1.747942412965215, 1.5134741666408393, 1.2934244558658907, 0.8403628348631846, 0.6484881608684265, 0.4062538505397093, 0.24363586033645213, 0.1564938463804566]\n",
      "[2.7250629344834914, 1.6935776410652803, 1.4488590154539587, 1.0798705700981621, 0.7409461455623623, 0.5707218607035287, 0.5335974386162814, 0.39017448725035564, 0.2726396720411124]\n",
      "[4.013892111389662, 2.2168739778187385, 1.4323539578760967, 0.8377618064297412, 0.48168248742596376]\n"
     ]
    }
   ],
   "source": [
    "print(da_hmu1_sm)\n",
    "print(db_hmu1_sm)\n",
    "print(dab_hmu1_sm)"
   ]
  },
  {
   "cell_type": "markdown",
   "metadata": {},
   "source": [
    "### VV"
   ]
  },
  {
   "cell_type": "code",
   "execution_count": 12,
   "metadata": {},
   "outputs": [],
   "source": [
    "dab1_vv = joint_moves(da1vv, db1vv)\n",
    "da_hmu1_vv = entropy_rate(da1vv, 10)\n",
    "db_hmu1_vv = entropy_rate(db1vv, 10)\n",
    "dab_hmu1_vv = entropy_rate(dab1_vv,6)\n",
    "minfo1_vv = mutual_info(da1vv, db1vv)"
   ]
  },
  {
   "cell_type": "code",
   "execution_count": 13,
   "metadata": {},
   "outputs": [
    {
     "name": "stdout",
     "output_type": "stream",
     "text": [
      "1.1683142568963918\n"
     ]
    }
   ],
   "source": [
    "print(minfo1_vv)"
   ]
  },
  {
   "cell_type": "code",
   "execution_count": 14,
   "metadata": {},
   "outputs": [
    {
     "name": "stdout",
     "output_type": "stream",
     "text": [
      "[2.6076706930107725, 1.8934675993516095, 1.553851719780587, 1.4012880833689607, 0.911768421038115, 0.5316009507544521, 0.30665231675187243, 0.24623275552875334, 0.1929496369893009]\n",
      "[2.6105425737849313, 1.752050771894044, 1.520087979440044, 1.3722453245365323, 0.9886740842074495, 0.8069490035755873, 0.35283592915598483, 0.2191029152907209, 0.05789750696870044]\n",
      "[4.052711270248207, 2.5282351880127187, 1.50870557989957, 0.7137260087567743, 0.44329871949784305]\n"
     ]
    }
   ],
   "source": [
    "print(da_hmu1_vv)\n",
    "print(db_hmu1_vv)\n",
    "print(dab_hmu1_vv)"
   ]
  },
  {
   "cell_type": "markdown",
   "metadata": {},
   "source": [
    "### Plotting"
   ]
  },
  {
   "cell_type": "code",
   "execution_count": 16,
   "metadata": {},
   "outputs": [
    {
     "data": {
      "image/png": "[encoded data removed]",
      "text/plain": [
       "<matplotlib.figure.Figure at 0x10df64b70>"
      ]
     },
     "metadata": {},
     "output_type": "display_data"
    }
   ],
   "source": [
    "fig, [ax1, ax2] = plt.subplots(nrows=1,ncols=2)\n",
    "ax1.plot(range(1,10), da_hmu1_sm, 'b', label=r'$h^{A}_{\\mu}(L)$')\n",
    "ax1.plot(range(1,10), db_hmu1_sm, 'r', label=r'$h^{B}_{\\mu}(L)$')\n",
    "ax1.set_xlabel('L')\n",
    "ax1.set_ylabel(r'$h_{\\mu}(L)$')\n",
    "ax1.set_title('Observer 1')\n",
    "ax1.set_ylim(0, 3)\n",
    "ax1.legend()\n",
    "ax2.plot(da_hmu1_vv, 'b', label=r'$h^{A}_{\\mu}(L)$')\n",
    "ax2.plot(db_hmu1_vv, 'r', label=r'$h^{B}_{\\mu}(L)$')\n",
    "ax2.set_title('Observer 2')\n",
    "ax2.set_ylim(0, 3)\n",
    "ax2.set_xlabel('L')\n",
    "ax2.legend()\n",
    "#ax2.set_ylabel(r'$h_{\\mu}(L)$')\n",
    "#plt.savefig('Vid_1_separate_hmu', dpi=200)\n",
    "plt.show()"
   ]
  },
  {
   "cell_type": "code",
   "execution_count": 17,
   "metadata": {},
   "outputs": [
    {
     "data": {
      "image/png": "[encoded data removed]",
      "text/plain": [
       "<matplotlib.figure.Figure at 0x10e27d390>"
      ]
     },
     "metadata": {},
     "output_type": "display_data"
    }
   ],
   "source": [
    "plt.clf()\n",
    "plt.plot(range(1,6), dab_hmu1_sm, 'g', label=r'$h^{AB}_{\\mu}(L)$ Obs 1')\n",
    "plt.plot(range(1,6), dab_hmu1_vv, 'k', label=r'$h^{AB}_{\\mu}(L)$ Obs 2')\n",
    "plt.title('Entropy rate of joint movement')\n",
    "plt.xlabel('L')\n",
    "plt.ylabel(r'$h_\\mu$')\n",
    "plt.legend()\n",
    "#plt.savefig('Vid_1_joint_hmu', dpi=200)\n",
    "plt.show()"
   ]
  },
  {
   "cell_type": "code",
   "execution_count": null,
   "metadata": {},
   "outputs": [],
   "source": []
  },
  {
   "cell_type": "code",
   "execution_count": null,
   "metadata": {},
   "outputs": [],
   "source": []
  },
  {
   "cell_type": "markdown",
   "metadata": {},
   "source": [
    "# Vid 2"
   ]
  },
  {
   "cell_type": "code",
   "execution_count": 18,
   "metadata": {},
   "outputs": [],
   "source": [
    "dA2_SH = []\n",
    "dB2_SH = []\n",
    "dA2_AV = []\n",
    "dB2_AV = []\n",
    "for line in v2_SH:\n",
    "    dat2 = line.split(',')\n",
    "    dA2_SH.append(one_dancer_alph[dat2[1]])\n",
    "    dB2_SH.append(one_dancer_alph[dat2[2]])\n",
    "    \n",
    "for line in v2_AV:\n",
    "    dat3 = line.split(',')\n",
    "    dA2_AV.append(one_dancer_alph[dat3[1]])\n",
    "    dB2_AV.append(one_dancer_alph[dat3[2]])\n",
    "    \n",
    "da2sh = np.array(dA2_SH) \n",
    "db2sh = np.array(dB2_SH)\n",
    "da2av = np.array(dA2_AV)\n",
    "db2av = np.array(dB2_AV)"
   ]
  },
  {
   "cell_type": "markdown",
   "metadata": {},
   "source": [
    "### SH"
   ]
  },
  {
   "cell_type": "code",
   "execution_count": 19,
   "metadata": {},
   "outputs": [],
   "source": [
    "dab2_sh = joint_moves(da2sh, db2sh)\n",
    "da_hmu2_sh = entropy_rate(da2sh, 10)\n",
    "db_hmu2_sh = entropy_rate(db2sh, 10)\n",
    "dab_hmu2_sh = entropy_rate(dab2_sh,6)\n",
    "minfo2_sh = mutual_info(da2sh, db2sh)"
   ]
  },
  {
   "cell_type": "code",
   "execution_count": 20,
   "metadata": {},
   "outputs": [
    {
     "name": "stdout",
     "output_type": "stream",
     "text": [
      "0.9613032846374896\n"
     ]
    }
   ],
   "source": [
    "print(minfo2_sh)"
   ]
  },
  {
   "cell_type": "code",
   "execution_count": 21,
   "metadata": {},
   "outputs": [
    {
     "name": "stdout",
     "output_type": "stream",
     "text": [
      "[2.445932083420461, 1.3169180874827138, 1.1882476929648869, 1.0488608366873793, 0.8055566376719074, 0.8026223508079129, 0.5776148208093481, 0.4515967774775955, 0.28902529294662926]\n",
      "[2.430576393446162, 1.4023840430226695, 1.2588294298809717, 1.0251615064122648, 0.8165442077779446, 0.6328726269258036, 0.5193481568451501, 0.3790686659546534, 0.1638034740917842]\n",
      "[3.9121421592402768, 1.8438866472683344, 1.2257187676414345, 0.8526806927847597, 0.5133650709053477]\n"
     ]
    }
   ],
   "source": [
    "print(da_hmu2_sh)\n",
    "print(db_hmu2_sh)\n",
    "print(dab_hmu2_sh)"
   ]
  },
  {
   "cell_type": "markdown",
   "metadata": {},
   "source": [
    "### AV"
   ]
  },
  {
   "cell_type": "code",
   "execution_count": 22,
   "metadata": {},
   "outputs": [],
   "source": [
    "dab2_av = joint_moves(da2av, db2av)\n",
    "da_hmu2_av = entropy_rate(da2av, 10)\n",
    "db_hmu2_av = entropy_rate(db2av, 10)\n",
    "dab_hmu2_av = entropy_rate(dab2_av,6)\n",
    "minfo2_av = mutual_info(da2av, db2av)"
   ]
  },
  {
   "cell_type": "code",
   "execution_count": 23,
   "metadata": {},
   "outputs": [
    {
     "name": "stdout",
     "output_type": "stream",
     "text": [
      "0.6113692521558534\n"
     ]
    }
   ],
   "source": [
    "print(minfo2_av)"
   ]
  },
  {
   "cell_type": "code",
   "execution_count": 24,
   "metadata": {},
   "outputs": [
    {
     "name": "stdout",
     "output_type": "stream",
     "text": [
      "[2.5290533084526503, 1.7390435033804716, 1.6542101660035522, 1.297268543036731, 0.9304035324788362, 0.5960118923141966, 0.4605974387430347, 0.29091245446558744, 0.11263475093939412]\n",
      "[2.3813281063473335, 1.5655267164590945, 1.3549248209230624, 1.1269912426933093, 0.734823505894564, 0.5534609623828448, 0.5255240106722017, 0.37363382173643167, 0.23653703766265366]\n",
      "[4.296025229193058, 2.481577833936191, 1.429327380833766, 0.7598866891661515, 0.38844658306267554]\n"
     ]
    }
   ],
   "source": [
    "print(da_hmu2_av)\n",
    "print(db_hmu2_av)\n",
    "print(dab_hmu2_av)"
   ]
  },
  {
   "cell_type": "code",
   "execution_count": 25,
   "metadata": {},
   "outputs": [
    {
     "data": {
      "image/png": "[encoded data removed]",
      "text/plain": [
       "<matplotlib.figure.Figure at 0x10e18ec18>"
      ]
     },
     "metadata": {},
     "output_type": "display_data"
    }
   ],
   "source": [
    "fig, [ax1, ax2] = plt.subplots(nrows=1,ncols=2)\n",
    "ax1.plot(range(1,10), da_hmu2_sh, 'b', label=r'$h^{A}_{\\mu}(L)$')\n",
    "ax1.plot(range(1,10), db_hmu2_sh, 'r', label=r'$h^{B}_{\\mu}(L)$')\n",
    "ax1.set_xlabel('L')\n",
    "ax1.set_ylabel(r'$h_{\\mu}(L)$')\n",
    "ax1.set_title('Observer 1')\n",
    "ax1.set_ylim(0, 3)\n",
    "ax1.legend()\n",
    "ax2.plot(da_hmu2_av, 'b', label=r'$h^{A}_{\\mu}(L)$')\n",
    "ax2.plot(db_hmu2_av, 'r', label=r'$h^{B}_{\\mu}(L)$')\n",
    "ax2.set_title('Observer 2')\n",
    "ax2.set_ylim(0, 3)\n",
    "ax2.set_xlabel('L')\n",
    "ax2.legend()\n",
    "#ax2.set_ylabel(r'$h_{\\mu}(L)$')\n",
    "#plt.savefig('Vid_2_separate_hmu', dpi=200)\n",
    "plt.show()"
   ]
  },
  {
   "cell_type": "code",
   "execution_count": 26,
   "metadata": {},
   "outputs": [
    {
     "data": {
      "image/png": "[encoded data removed]",
      "text/plain": [
       "<matplotlib.figure.Figure at 0x10d10d898>"
      ]
     },
     "metadata": {},
     "output_type": "display_data"
    }
   ],
   "source": [
    "plt.clf()\n",
    "plt.plot(range(1,6), dab_hmu2_sh, 'g', label=r'$h^{AB}_{\\mu}(L)$ Obs 1')\n",
    "plt.plot(range(1,6), dab_hmu2_av, 'k', label=r'$h^{AB}_{\\mu}(L)$ Obs 2')\n",
    "plt.title('Entropy rate of joint movement')\n",
    "plt.xlabel('L')\n",
    "plt.ylabel(r'$h_\\mu$')\n",
    "plt.legend()\n",
    "#plt.savefig('Vid_2_joint_hmu', dpi=200)\n",
    "plt.show()"
   ]
  },
  {
   "cell_type": "markdown",
   "metadata": {},
   "source": [
    "# Vid 4"
   ]
  },
  {
   "cell_type": "code",
   "execution_count": 27,
   "metadata": {},
   "outputs": [],
   "source": [
    "dA4_SH = []\n",
    "dB4_SH = []\n",
    "dA4_PM = []\n",
    "dB4_PM = []\n",
    "for line in v4_SH:\n",
    "    dat4 = line.split(',')\n",
    "    dA4_SH.append(one_dancer_alph[dat4[1]])\n",
    "    dB4_SH.append(one_dancer_alph[dat4[2]])\n",
    "    \n",
    "for line in v4_PM[:261]:\n",
    "    dat5 = line.split(',')\n",
    "    dA4_PM.append(one_dancer_alph[dat5[1]])\n",
    "    dB4_PM.append(one_dancer_alph[dat5[2]])\n",
    "    \n",
    "da4sh = np.array(dA4_SH) \n",
    "db4sh = np.array(dB4_SH)\n",
    "da4pm = np.array(dA4_PM)\n",
    "db4pm = np.array(dB4_PM)"
   ]
  },
  {
   "cell_type": "markdown",
   "metadata": {},
   "source": [
    "### PM"
   ]
  },
  {
   "cell_type": "code",
   "execution_count": 28,
   "metadata": {},
   "outputs": [],
   "source": [
    "dab4_pm = joint_moves(da4pm, db4pm)\n",
    "da_hmu4_pm = entropy_rate(da4pm, 10)\n",
    "db_hmu4_pm = entropy_rate(db4pm, 10)\n",
    "dab_hmu4_pm = entropy_rate(dab4_pm,6)\n",
    "minfo4_pm = mutual_info(da4pm, db4pm)"
   ]
  },
  {
   "cell_type": "code",
   "execution_count": 29,
   "metadata": {},
   "outputs": [
    {
     "name": "stdout",
     "output_type": "stream",
     "text": [
      "1.1534952572705288\n"
     ]
    }
   ],
   "source": [
    "print(minfo4_pm)"
   ]
  },
  {
   "cell_type": "code",
   "execution_count": 30,
   "metadata": {},
   "outputs": [
    {
     "name": "stdout",
     "output_type": "stream",
     "text": [
      "[2.8301842519395337, 1.6636311684559861, 1.530585844017632, 1.1322171249167745, 0.9356197169201392, 0.6391489117645346, 0.3809734744150628, 0.2740688562527698, 0.17222984400570773]\n",
      "[2.6419299689536984, 1.6157087744386547, 1.5574340149321806, 1.1316885006991564, 0.964325240701581, 0.7664048829641903, 0.5821568316182884, 0.26785907463109204, 0.19309869885304032]\n",
      "[4.315860474585211, 2.179798885438923, 1.327394405307822, 0.8132861064474488, 0.5092753962751235]\n"
     ]
    }
   ],
   "source": [
    "print(da_hmu4_pm)\n",
    "print(db_hmu4_pm)\n",
    "print(dab_hmu4_pm)"
   ]
  },
  {
   "cell_type": "markdown",
   "metadata": {},
   "source": [
    "### SH"
   ]
  },
  {
   "cell_type": "code",
   "execution_count": 31,
   "metadata": {},
   "outputs": [],
   "source": [
    "dab4_sh = joint_moves(da4sh, db4sh)\n",
    "da_hmu4_sh = entropy_rate(da4sh, 10)\n",
    "db_hmu4_sh = entropy_rate(db4sh, 10)\n",
    "dab_hmu4_sh = entropy_rate(dab4_sh,6)\n",
    "minfo4_sh = mutual_info(da4sh, db4sh)"
   ]
  },
  {
   "cell_type": "code",
   "execution_count": 32,
   "metadata": {},
   "outputs": [
    {
     "name": "stdout",
     "output_type": "stream",
     "text": [
      "1.512742676510972\n"
     ]
    }
   ],
   "source": [
    "print(minfo4_sh)"
   ]
  },
  {
   "cell_type": "code",
   "execution_count": 33,
   "metadata": {},
   "outputs": [
    {
     "name": "stdout",
     "output_type": "stream",
     "text": [
      "[2.855212299235779, 1.7128789285310244, 1.5246192097124043, 1.0545410188413156, 0.8702924896129458, 0.6183777741403009, 0.4114666748349656, 0.29901117011198863, 0.24267217134886998]\n",
      "[2.6708878760235057, 1.7467809121637021, 1.559479193740379, 1.182144212534725, 0.7386330458890313, 0.5027941205919282, 0.40937196729599634, 0.2833632794812395, 0.2979355947196378]\n",
      "[4.010599009710821, 2.0962736937449753, 1.3930614618535957, 0.8767684442790262, 0.5132533771120436]\n"
     ]
    }
   ],
   "source": [
    "print(da_hmu4_sh)\n",
    "print(db_hmu4_sh)\n",
    "print(dab_hmu4_sh)"
   ]
  },
  {
   "cell_type": "code",
   "execution_count": 35,
   "metadata": {},
   "outputs": [
    {
     "data": {
      "image/png": "[encoded data removed]",
      "text/plain": [
       "<matplotlib.figure.Figure at 0x10e26e198>"
      ]
     },
     "metadata": {},
     "output_type": "display_data"
    }
   ],
   "source": [
    "fig, [ax1, ax2] = plt.subplots(nrows=1,ncols=2)\n",
    "ax1.plot(range(1,10), da_hmu4_sh, 'b', label=r'$h^{A}_{\\mu}(L)$')\n",
    "ax1.plot(range(1,10), db_hmu4_sh, 'r', label=r'$h^{B}_{\\mu}(L)$')\n",
    "ax1.set_xlabel('L')\n",
    "ax1.set_ylabel(r'$h_{\\mu}(L)$')\n",
    "ax1.set_title('Observer 1')\n",
    "ax1.set_ylim(0, 3)\n",
    "ax1.legend()\n",
    "ax2.plot(da_hmu4_pm, 'b', label=r'$h^{A}_{\\mu}(L)$')\n",
    "ax2.plot(db_hmu4_pm, 'r', label=r'$h^{B}_{\\mu}(L)$')\n",
    "ax2.set_title('Observer 2')\n",
    "ax2.set_ylim(0, 3)\n",
    "ax2.set_xlabel('L')\n",
    "ax2.legend()\n",
    "#ax2.set_ylabel(r'$h_{\\mu}(L)$')\n",
    "#plt.savefig('Vid_4_separate_hmu', dpi=200)\n",
    "plt.show()"
   ]
  },
  {
   "cell_type": "code",
   "execution_count": 36,
   "metadata": {},
   "outputs": [
    {
     "data": {
      "image/png": "[encoded data removed]",
      "text/plain": [
       "<matplotlib.figure.Figure at 0x10e197438>"
      ]
     },
     "metadata": {},
     "output_type": "display_data"
    }
   ],
   "source": [
    "plt.clf()\n",
    "plt.plot(range(1,6), dab_hmu4_sh, 'g', label=r'$h^{AB}_{\\mu}(L)$ Obs 1')\n",
    "plt.plot(range(1,6), dab_hmu4_pm, 'k', label=r'$h^{AB}_{\\mu}(L)$ Obs 2')\n",
    "plt.title('Entropy rate of joint movement')\n",
    "plt.xlabel('L')\n",
    "plt.ylabel(r'$h_\\mu$')\n",
    "plt.legend()\n",
    "#plt.savefig('Vid_4_joint_hmu', dpi=200)\n",
    "plt.show()"
   ]
  },
  {
   "cell_type": "markdown",
   "metadata": {},
   "source": [
    "### Mutual Information"
   ]
  },
  {
   "cell_type": "code",
   "execution_count": 37,
   "metadata": {},
   "outputs": [
    {
     "data": {
      "image/png": "[encoded data removed]",
      "text/plain": [
       "<matplotlib.figure.Figure at 0x10d616940>"
      ]
     },
     "metadata": {},
     "output_type": "display_data"
    }
   ],
   "source": [
    "plt.clf()\n",
    "plt.plot([1,2,3],[minfo2_av, minfo1_sm, minfo4_pm], 'go')\n",
    "plt.plot([1,2,3],[minfo2_sh, minfo1_vv, minfo4_sh], 'go')\n",
    "plt.title('Mutual information between partners')\n",
    "plt.ylabel('I(A,B)')\n",
    "plt.xlabel('Improv skill level')\n",
    "plt.xticks([1,2,3])\n",
    "#plt.savefig('Mutual_info', dpi=200)\n",
    "plt.show()"
   ]
  },
  {
   "cell_type": "code",
   "execution_count": null,
   "metadata": {},
   "outputs": [],
   "source": []
  }
 ],
 "metadata": {
  "kernelspec": {
   "display_name": "Python 3",
   "language": "python",
   "name": "python3"
  },
  "language_info": {
   "codemirror_mode": {
    "name": "ipython",
    "version": 3
   },
   "file_extension": ".py",
   "mimetype": "text/x-python",
   "name": "python",
   "nbconvert_exporter": "python",
   "pygments_lexer": "ipython3",
   "version": "3.6.5"
  }
 },
 "nbformat": 4,
 "nbformat_minor": 2
}
